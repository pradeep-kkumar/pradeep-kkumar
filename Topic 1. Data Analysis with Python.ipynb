{
 "cells": [
  {
   "cell_type": "markdown",
   "id": "44c135b5",
   "metadata": {},
   "source": [
    "## Data Analysis with Python\n",
    "\n",
    "Data Science and Machine Learning rely on data; therefore, data is the new oil nowadays. We can not directly use the raw data for analysis and creating machine models. We need to load, process, and make it ready for analysis. Then we also need efficient APIs for analysis and applying machine learning models to it. Python provides a few modules, i.e., NumPy and Pandas, for data processing to make all this scientific and analytics stuff possible. Also, Matplotlib for Data Visualization. These modules help users to manipulate, transform and visualize data efficiently.\n",
    "\n",
    "## What is Pandas?\n",
    "\n",
    "Python provides the Pandas module for high-performance data analysis.\n",
    "\n",
    "## Why do we need Pandas?\n",
    "\n",
    "- It is a fast, flexible, and powerful data manipulation library. Pandas is the most crucial module for applying Data Science using Python Programming. It provides several data structures like Series, Index, and DataFrame for data analysis. It provides the support for,\n",
    "- Easy import and export of data into a tabular format data structure like DataFrame.\n",
    "- Routines for manipulation and complex analyses of data.\n",
    "- Handling of Missing Data\n",
    "- Dataset merging\n",
    "- Reshaping of datasets\n",
    "- Time-series based data manipulation and analysis APIs\n",
    "- Group-By functionality to perform split-apply-combine operations\n",
    "- Well integrated with other libraries like NumPy and matplotlib\n",
    "\n",
    "#### Pandas mainly provide two data structures for data manipulating and analysis. They are:\n",
    "\n",
    "### 1. Series\n",
    "\n",
    "A heterogeneous one dimensional labelled array. It contains a sequence of values of any data type.\n",
    "\n",
    "### DataFrame\n",
    "\n",
    "A heterogeneous n-dimensional labelled data structure. In most cases, it is used as a two-dimensional tabular format. It stores the data in rows and columns. Both the rows and columns have labels associated with them. It is similar to excel, and just like in excel, we can perform all kinds of operations on data in DataFrame through provided APIs.\n",
    "We will discuss each of them in detail later.\n",
    "\n",
    "### How to Install Pandas\n",
    "\n",
    "To install the Pandas module, run the following command,\n",
    "\n",
    "    pip install pandas\n",
    "\n",
    "If Python and pip are already installed, this command will install the pandas module.\n",
    "\n",
    "### How to check the version of installed Pandas?\n",
    "\n",
    "To know the installed pandas version, run the following command,\n",
    "\n",
    "    import pandas as pd\n",
    "    pd.__version__\n",
    "    or\n",
    "    pip show pandas"
   ]
  },
  {
   "cell_type": "code",
   "execution_count": 1,
   "id": "a6ea4524",
   "metadata": {},
   "outputs": [
    {
     "name": "stdout",
     "output_type": "stream",
     "text": [
      "1.4.2\n"
     ]
    }
   ],
   "source": [
    "# Using pd.__version__ to get pandas version information\n",
    "\n",
    "import pandas\n",
    "print(pandas.__version__)"
   ]
  },
  {
   "cell_type": "code",
   "execution_count": 2,
   "id": "6eafea1c",
   "metadata": {},
   "outputs": [
    {
     "name": "stdout",
     "output_type": "stream",
     "text": [
      "Name: pandas\n",
      "Version: 1.4.2\n",
      "Summary: Powerful data structures for data analysis, time series, and statistics\n",
      "Home-page: https://pandas.pydata.org\n",
      "Author: The Pandas Development Team\n",
      "Author-email: pandas-dev@python.org\n",
      "License: BSD-3-Clause\n",
      "Location: c:\\users\\administrator.lab-student\\anaconda3\\lib\\site-packages\n",
      "Requires: numpy, python-dateutil, pytz\n",
      "Required-by: datashader, holoviews, hvplot, seaborn, statsmodels, text-normalizer, xarray\n",
      "Note: you may need to restart the kernel to use updated packages.\n"
     ]
    }
   ],
   "source": [
    "# Using pd.__version__ to get pandas version information\n",
    "\n",
    "pip show pandas"
   ]
  },
  {
   "cell_type": "code",
   "execution_count": null,
   "id": "8aa4f81c",
   "metadata": {},
   "outputs": [],
   "source": []
  }
 ],
 "metadata": {
  "kernelspec": {
   "display_name": "Python 3 (ipykernel)",
   "language": "python",
   "name": "python3"
  },
  "language_info": {
   "codemirror_mode": {
    "name": "ipython",
    "version": 3
   },
   "file_extension": ".py",
   "mimetype": "text/x-python",
   "name": "python",
   "nbconvert_exporter": "python",
   "pygments_lexer": "ipython3",
   "version": "3.9.12"
  }
 },
 "nbformat": 4,
 "nbformat_minor": 5
}
