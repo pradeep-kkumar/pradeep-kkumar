{
 "cells": [
  {
   "cell_type": "markdown",
   "id": "e3e2c6c1",
   "metadata": {},
   "source": [
    "## Identifying Missing Data"
   ]
  },
  {
   "cell_type": "code",
   "execution_count": 3,
   "id": "4b9cb2e0",
   "metadata": {},
   "outputs": [
    {
     "name": "stdout",
     "output_type": "stream",
     "text": [
      "    Courses      Fee Duration  Discount    \n",
      "r1    Spark  20000.0    30day    1000.0 NaN\n",
      "r2  PySpark  25000.0   40days       NaN NaN\n",
      "r3   Hadoop  26000.0   35days    1200.0 NaN\n",
      "r4   Python  23093.0   45days    2500.0 NaN\n",
      "r5   pandas  24000.0      NaN       NaN NaN\n",
      "        NaN      NaN      NaN       NaN NaN\n"
     ]
    }
   ],
   "source": [
    "\n",
    "import pandas as pd\n",
    "import numpy as np\n",
    "technologies = {\n",
    "    'Courses':[\"Spark\",\"PySpark\",\"Hadoop\",\"Python\",\"pandas\",np.nan],\n",
    "    'Fee' :[20000,25000,26000,23093,24000,np.nan],\n",
    "    'Duration':['30day','40days','35days','45days',np.nan,np.nan],\n",
    "    'Discount':[1000,np.nan,1200,2500,np.NaN,np.nan],\n",
    "    '':[np.nan,np.nan,np.nan,np.nan,np.nan,np.nan]\n",
    "              }\n",
    "index_labels=['r1','r2','r3','r4','r5','']\n",
    "df = pd.DataFrame(technologies,index=index_labels)\n",
    "print(df)"
   ]
  },
  {
   "cell_type": "code",
   "execution_count": 8,
   "id": "2b84afdf",
   "metadata": {},
   "outputs": [
    {
     "name": "stdout",
     "output_type": "stream",
     "text": [
      "Column wise missing values:  Courses     1\n",
      "Fee         1\n",
      "Duration    2\n",
      "Discount    3\n",
      "            6\n",
      "dtype: int64\n",
      "Total number of missings in complete data:  13\n"
     ]
    }
   ],
   "source": [
    "# Identifying missing data\n",
    "# Calculating missing values in every column\n",
    "print(\"Column wise missing values: \",df.isna().sum())\n",
    "\n",
    "# Calculating total missing values in data\n",
    "total = df.isna().sum().sum()\n",
    "print(\"Total number of missings in complete data: \",total)"
   ]
  },
  {
   "cell_type": "markdown",
   "id": "2d40b3b8",
   "metadata": {},
   "source": [
    "## pandas dropna() Syntax\n",
    "\n",
    "\n",
    "#### Syntax:\n",
    "\n",
    "> DataFrame.dropna(axis=0, how='any', thresh=None, subset=None, inplace=False)\n",
    "    \n",
    "- **value**: Takes either scalar, dict, Series, or DataFrame but not list.\n",
    "method – Takes one of these values {‘backfill’, ‘bfill’, ‘pad’, ‘ffill’, None}. Default None.\n",
    "- **axis**: 0 or ‘index’, 1 or ‘columns’. Used to specifiy axis to fill the values.\n",
    "- **inplace**: Default False. When used True, it updates existing DataFrame object.\n",
    "- **limit**: Specify how many fills should happen. This is the maximum number of consecutive NaN values replaced with specified value.\n",
    "- **downcast**: It takes a dict of key-value pair that specifies data type to downcast . Like Float64 to int64, date to string e.t.c    "
   ]
  },
  {
   "cell_type": "markdown",
   "id": "f3eb6ec4",
   "metadata": {},
   "source": [
    "## Drop Rows with All NaN Values"
   ]
  },
  {
   "cell_type": "code",
   "execution_count": 20,
   "id": "2dae381c",
   "metadata": {},
   "outputs": [
    {
     "name": "stdout",
     "output_type": "stream",
     "text": [
      "    Courses      Fee Duration  Discount    \n",
      "r1    Spark  20000.0    30day    1000.0 NaN\n",
      "r2  PySpark  25000.0   40days       NaN NaN\n",
      "r3   Hadoop  26000.0   35days    1200.0 NaN\n",
      "r4   Python  23093.0   45days    2500.0 NaN\n",
      "r5   pandas  24000.0      NaN       NaN NaN\n"
     ]
    }
   ],
   "source": [
    "\n",
    "# Drop rows that has all Nan Values\n",
    "df1 = df.dropna(how='all')\n",
    "print(df1)"
   ]
  },
  {
   "cell_type": "markdown",
   "id": "039012e4",
   "metadata": {},
   "source": [
    "## Drop Columns with All NaN Values"
   ]
  },
  {
   "cell_type": "code",
   "execution_count": 21,
   "id": "87c947fd",
   "metadata": {},
   "outputs": [
    {
     "name": "stdout",
     "output_type": "stream",
     "text": [
      "    Courses      Fee Duration  Discount\n",
      "r1    Spark  20000.0    30day    1000.0\n",
      "r2  PySpark  25000.0   40days       NaN\n",
      "r3   Hadoop  26000.0   35days    1200.0\n",
      "r4   Python  23093.0   45days    2500.0\n",
      "r5   pandas  24000.0      NaN       NaN\n",
      "        NaN      NaN      NaN       NaN\n"
     ]
    }
   ],
   "source": [
    "\n",
    "# Drop columns that has all Nan Values\n",
    "df = df.dropna(how='all',axis=1)\n",
    "print(df)\n"
   ]
  },
  {
   "cell_type": "markdown",
   "id": "1f916a07",
   "metadata": {},
   "source": [
    "## Drop Rows & Columns that Contains NaN"
   ]
  },
  {
   "cell_type": "code",
   "execution_count": 22,
   "id": "6a571f36",
   "metadata": {},
   "outputs": [
    {
     "name": "stdout",
     "output_type": "stream",
     "text": [
      "   Courses      Fee Duration  Discount\n",
      "r1   Spark  20000.0    30day    1000.0\n",
      "r3  Hadoop  26000.0   35days    1200.0\n",
      "r4  Python  23093.0   45days    2500.0\n"
     ]
    }
   ],
   "source": [
    "# Drop rows that contains nan values\n",
    "df2=df.dropna()\n",
    "print(df2)\n"
   ]
  },
  {
   "cell_type": "code",
   "execution_count": 5,
   "id": "9a30063e",
   "metadata": {},
   "outputs": [
    {
     "name": "stdout",
     "output_type": "stream",
     "text": [
      "   Courses      Fee Duration Discount\n",
      "r1   Spark  20000.0    30day     1000\n",
      "r3  Hadoop  26000.0   35days     1200\n",
      "r4  Python  23093.0   45days     2500\n"
     ]
    }
   ],
   "source": [
    "# Drop columns that contains nan values\n",
    "df2=df.dropna()\n",
    "print(df2)\n"
   ]
  },
  {
   "cell_type": "markdown",
   "id": "2cb0aa9d",
   "metadata": {},
   "source": [
    "## Execute pandas dropna() on Specific Selected Columns"
   ]
  },
  {
   "cell_type": "code",
   "execution_count": 6,
   "id": "8ff4d45e",
   "metadata": {},
   "outputs": [
    {
     "name": "stdout",
     "output_type": "stream",
     "text": [
      "    Courses      Fee Duration Discount\n",
      "r1    Spark  20000.0    30day     1000\n",
      "r2  PySpark  25000.0   40days      NaN\n",
      "r3   Hadoop  26000.0   35days     1200\n",
      "r4   Python  23093.0   45days     2500\n"
     ]
    }
   ],
   "source": [
    "\n",
    "# Drop rows that has NaN values on selected columns\n",
    "df2=df.dropna(subset=['Courses','Duration'])\n",
    "print(df2)\n"
   ]
  },
  {
   "cell_type": "markdown",
   "id": "7050f88b",
   "metadata": {},
   "source": [
    "## Drop NaN Values with Threshold"
   ]
  },
  {
   "cell_type": "code",
   "execution_count": 23,
   "id": "9680edb8",
   "metadata": {},
   "outputs": [
    {
     "name": "stdout",
     "output_type": "stream",
     "text": [
      "    Courses      Fee Duration  Discount    \n",
      "r1    Spark  20000.0    30day    1000.0 NaN\n",
      "r2  PySpark  25000.0   40days       NaN NaN\n",
      "r3   Hadoop  26000.0   35days    1200.0 NaN\n",
      "r4   Python  23093.0   45days    2500.0 NaN\n",
      "r5   pandas  24000.0      NaN       NaN NaN\n",
      "        NaN      NaN      NaN       NaN NaN\n"
     ]
    }
   ],
   "source": [
    "import pandas as pd\n",
    "import numpy as np\n",
    "technologies = {\n",
    "    'Courses':[\"Spark\",\"PySpark\",\"Hadoop\",\"Python\",\"pandas\",np.nan],\n",
    "    'Fee' :[20000,25000,26000,23093,24000,np.nan],\n",
    "    'Duration':['30day','40days','35days','45days',np.nan,np.nan],\n",
    "    'Discount':[1000,np.nan,1200,2500,np.NaN,np.nan],\n",
    "    '':[np.nan,np.nan,np.nan,np.nan,np.nan,np.nan]\n",
    "              }\n",
    "index_labels=['r1','r2','r3','r4','r5','']\n",
    "df = pd.DataFrame(technologies,index=index_labels)\n",
    "print(df)\n"
   ]
  },
  {
   "cell_type": "code",
   "execution_count": 24,
   "id": "2b9e0754",
   "metadata": {},
   "outputs": [
    {
     "data": {
      "text/html": [
       "<div>\n",
       "<style scoped>\n",
       "    .dataframe tbody tr th:only-of-type {\n",
       "        vertical-align: middle;\n",
       "    }\n",
       "\n",
       "    .dataframe tbody tr th {\n",
       "        vertical-align: top;\n",
       "    }\n",
       "\n",
       "    .dataframe thead th {\n",
       "        text-align: right;\n",
       "    }\n",
       "</style>\n",
       "<table border=\"1\" class=\"dataframe\">\n",
       "  <thead>\n",
       "    <tr style=\"text-align: right;\">\n",
       "      <th></th>\n",
       "      <th>Courses</th>\n",
       "      <th>Fee</th>\n",
       "      <th>Duration</th>\n",
       "      <th>Discount</th>\n",
       "      <th></th>\n",
       "    </tr>\n",
       "  </thead>\n",
       "  <tbody>\n",
       "    <tr>\n",
       "      <th>r1</th>\n",
       "      <td>Spark</td>\n",
       "      <td>20000.0</td>\n",
       "      <td>30day</td>\n",
       "      <td>1000.0</td>\n",
       "      <td>NaN</td>\n",
       "    </tr>\n",
       "    <tr>\n",
       "      <th>r2</th>\n",
       "      <td>PySpark</td>\n",
       "      <td>25000.0</td>\n",
       "      <td>40days</td>\n",
       "      <td>NaN</td>\n",
       "      <td>NaN</td>\n",
       "    </tr>\n",
       "    <tr>\n",
       "      <th>r3</th>\n",
       "      <td>Hadoop</td>\n",
       "      <td>26000.0</td>\n",
       "      <td>35days</td>\n",
       "      <td>1200.0</td>\n",
       "      <td>NaN</td>\n",
       "    </tr>\n",
       "    <tr>\n",
       "      <th>r4</th>\n",
       "      <td>Python</td>\n",
       "      <td>23093.0</td>\n",
       "      <td>45days</td>\n",
       "      <td>2500.0</td>\n",
       "      <td>NaN</td>\n",
       "    </tr>\n",
       "    <tr>\n",
       "      <th>r5</th>\n",
       "      <td>pandas</td>\n",
       "      <td>24000.0</td>\n",
       "      <td>NaN</td>\n",
       "      <td>NaN</td>\n",
       "      <td>NaN</td>\n",
       "    </tr>\n",
       "  </tbody>\n",
       "</table>\n",
       "</div>"
      ],
      "text/plain": [
       "    Courses      Fee Duration  Discount    \n",
       "r1    Spark  20000.0    30day    1000.0 NaN\n",
       "r2  PySpark  25000.0   40days       NaN NaN\n",
       "r3   Hadoop  26000.0   35days    1200.0 NaN\n",
       "r4   Python  23093.0   45days    2500.0 NaN\n",
       "r5   pandas  24000.0      NaN       NaN NaN"
      ]
     },
     "execution_count": 24,
     "metadata": {},
     "output_type": "execute_result"
    }
   ],
   "source": [
    "# With threshold, \n",
    "# Keep only the rows with at least 2 non-NA values.\n",
    "df2=df.dropna(thresh=2)\n",
    "df2"
   ]
  },
  {
   "cell_type": "markdown",
   "id": "1b353625",
   "metadata": {},
   "source": [
    "## Filling Missing Data\n",
    "\n",
    "### pandas.DataFrame.fillna() Syntax\n",
    "    \n",
    "#### Syntax:\n",
    "> DataFrame.fillna(value=None, method=None, axis=None, inplace=False, limit=None, downcast=None)\n",
    "    \n",
    "- **value**: Takes either scalar, dict, Series, or DataFrame but not list.\n",
    "- **method**: Takes one of these values {‘backfill’, ‘bfill’, ‘pad’, ‘ffill’, None}. Default None.\n",
    "- **axis**: 0 or ‘index’, 1 or ‘columns’. Used to specifiy axis to fill the values.\n",
    "- **inplace**: Default False. When used True, it updates existing DataFrame object.\n",
    "- **limit**: Specify how many fills should happen. This is the maximum number of consecutive NaN values replaced with specified value.\n",
    "- **downcast**: It takes a dict of key-value pair that specifies data type to downcast . Like Float64 to int64, date to string e.t.c    "
   ]
  },
  {
   "cell_type": "code",
   "execution_count": 31,
   "id": "90663dd5",
   "metadata": {},
   "outputs": [
    {
     "name": "stdout",
     "output_type": "stream",
     "text": [
      "  Courses      Fee Duration  Discount\n",
      "0   Spark  20000.0   30days    1000.0\n",
      "1    Java      NaN   40days       NaN\n",
      "2   Scala  26000.0       NA    2500.0\n",
      "3  Python  24000.0   40days       NaN\n"
     ]
    }
   ],
   "source": [
    "\n",
    "# Create DataFrame\n",
    "import pandas as pd\n",
    "import numpy as np\n",
    "df = pd.DataFrame(({\n",
    "     'Courses':[\"Spark\",'Java',\"Scala\",'Python'],\n",
    "     'Fee' :[20000,np.nan,26000,24000],\n",
    "     'Duration':['30days','40days','NA','40days'],\n",
    "     'Discount':[1000,np.nan,2500,None]\n",
    "               }))\n",
    "print(df)\n"
   ]
  },
  {
   "cell_type": "markdown",
   "id": "57f8adea",
   "metadata": {},
   "source": [
    "## pandas fillna NaN with None Value"
   ]
  },
  {
   "cell_type": "code",
   "execution_count": 19,
   "id": "c68766e7",
   "metadata": {},
   "outputs": [
    {
     "data": {
      "text/html": [
       "<div>\n",
       "<style scoped>\n",
       "    .dataframe tbody tr th:only-of-type {\n",
       "        vertical-align: middle;\n",
       "    }\n",
       "\n",
       "    .dataframe tbody tr th {\n",
       "        vertical-align: top;\n",
       "    }\n",
       "\n",
       "    .dataframe thead th {\n",
       "        text-align: right;\n",
       "    }\n",
       "</style>\n",
       "<table border=\"1\" class=\"dataframe\">\n",
       "  <thead>\n",
       "    <tr style=\"text-align: right;\">\n",
       "      <th></th>\n",
       "      <th>A</th>\n",
       "      <th>B</th>\n",
       "      <th>C</th>\n",
       "      <th>D</th>\n",
       "    </tr>\n",
       "  </thead>\n",
       "  <tbody>\n",
       "    <tr>\n",
       "      <th>0</th>\n",
       "      <td>NaN</td>\n",
       "      <td>2.0</td>\n",
       "      <td>NaN</td>\n",
       "      <td>0.0</td>\n",
       "    </tr>\n",
       "    <tr>\n",
       "      <th>1</th>\n",
       "      <td>3.0</td>\n",
       "      <td>4.0</td>\n",
       "      <td>NaN</td>\n",
       "      <td>1.0</td>\n",
       "    </tr>\n",
       "    <tr>\n",
       "      <th>2</th>\n",
       "      <td>NaN</td>\n",
       "      <td>NaN</td>\n",
       "      <td>NaN</td>\n",
       "      <td>NaN</td>\n",
       "    </tr>\n",
       "    <tr>\n",
       "      <th>3</th>\n",
       "      <td>NaN</td>\n",
       "      <td>3.0</td>\n",
       "      <td>NaN</td>\n",
       "      <td>4.0</td>\n",
       "    </tr>\n",
       "  </tbody>\n",
       "</table>\n",
       "</div>"
      ],
      "text/plain": [
       "     A    B   C    D\n",
       "0  NaN  2.0 NaN  0.0\n",
       "1  3.0  4.0 NaN  1.0\n",
       "2  NaN  NaN NaN  NaN\n",
       "3  NaN  3.0 NaN  4.0"
      ]
     },
     "execution_count": 19,
     "metadata": {},
     "output_type": "execute_result"
    }
   ],
   "source": [
    "df = pd.DataFrame([[np.nan, 2, np.nan, 0],\n",
    "                    [3, 4, np.nan, 1],\n",
    "                    [np.nan, np.nan, np.nan, np.nan],\n",
    "                    [np.nan, 3, np.nan, 4]],\n",
    "                   columns=list(\"ABCD\"))\n",
    "df"
   ]
  },
  {
   "cell_type": "code",
   "execution_count": 20,
   "id": "55561523",
   "metadata": {},
   "outputs": [
    {
     "name": "stdout",
     "output_type": "stream",
     "text": [
      "      A     B     C     D\n",
      "0  None   2.0  None   0.0\n",
      "1   3.0   4.0  None   1.0\n",
      "2  None  None  None  None\n",
      "3  None   3.0  None   4.0\n"
     ]
    }
   ],
   "source": [
    "# fillna to replace all NaN\n",
    "df1=df.fillna('None')\n",
    "print(df1)\n"
   ]
  },
  {
   "cell_type": "code",
   "execution_count": 21,
   "id": "23be0fa3",
   "metadata": {},
   "outputs": [
    {
     "name": "stdout",
     "output_type": "stream",
     "text": [
      "<class 'pandas.core.frame.DataFrame'>\n",
      "RangeIndex: 4 entries, 0 to 3\n",
      "Data columns (total 4 columns):\n",
      " #   Column  Non-Null Count  Dtype \n",
      "---  ------  --------------  ----- \n",
      " 0   A       4 non-null      object\n",
      " 1   B       4 non-null      object\n",
      " 2   C       4 non-null      object\n",
      " 3   D       4 non-null      object\n",
      "dtypes: object(4)\n",
      "memory usage: 256.0+ bytes\n",
      "None\n"
     ]
    }
   ],
   "source": [
    "print(df1.info())"
   ]
  },
  {
   "cell_type": "code",
   "execution_count": 22,
   "id": "1b8ee040",
   "metadata": {},
   "outputs": [
    {
     "name": "stdout",
     "output_type": "stream",
     "text": [
      "     A    B    C    D\n",
      "0  0.0  2.0  0.0  0.0\n",
      "1  3.0  4.0  0.0  1.0\n",
      "2  0.0  0.0  0.0  0.0\n",
      "3  0.0  3.0  0.0  4.0\n",
      "\n",
      "<class 'pandas.core.frame.DataFrame'>\n",
      "RangeIndex: 4 entries, 0 to 3\n",
      "Data columns (total 4 columns):\n",
      " #   Column  Non-Null Count  Dtype  \n",
      "---  ------  --------------  -----  \n",
      " 0   A       4 non-null      float64\n",
      " 1   B       4 non-null      float64\n",
      " 2   C       4 non-null      float64\n",
      " 3   D       4 non-null      float64\n",
      "dtypes: float64(4)\n",
      "memory usage: 256.0 bytes\n",
      "None\n"
     ]
    }
   ],
   "source": [
    "# fillna to replace all NaN\n",
    "df2=df.fillna(0)\n",
    "print(df2)\n",
    "print()\n",
    "print(df2.info())"
   ]
  },
  {
   "cell_type": "markdown",
   "id": "8f332387",
   "metadata": {},
   "source": [
    "## pandas fillna on One Column"
   ]
  },
  {
   "cell_type": "code",
   "execution_count": 24,
   "id": "fed0b04a",
   "metadata": {},
   "outputs": [
    {
     "name": "stdout",
     "output_type": "stream",
     "text": [
      "     A    B   C    D\n",
      "0  NaN  2.0 NaN  0.0\n",
      "1  3.0  4.0 NaN  1.0\n",
      "2  NaN  0.0 NaN  NaN\n",
      "3  NaN  3.0 NaN  4.0\n"
     ]
    }
   ],
   "source": [
    "# Fill missing in one column only\n",
    "\n",
    "df['B'] = df['B'].fillna(0)\n",
    "print(df)"
   ]
  },
  {
   "cell_type": "markdown",
   "id": "ac20a701",
   "metadata": {},
   "source": [
    "## fillna on Multiple Columns"
   ]
  },
  {
   "cell_type": "code",
   "execution_count": 30,
   "id": "5b30ec74",
   "metadata": {},
   "outputs": [
    {
     "data": {
      "text/html": [
       "<div>\n",
       "<style scoped>\n",
       "    .dataframe tbody tr th:only-of-type {\n",
       "        vertical-align: middle;\n",
       "    }\n",
       "\n",
       "    .dataframe tbody tr th {\n",
       "        vertical-align: top;\n",
       "    }\n",
       "\n",
       "    .dataframe thead th {\n",
       "        text-align: right;\n",
       "    }\n",
       "</style>\n",
       "<table border=\"1\" class=\"dataframe\">\n",
       "  <thead>\n",
       "    <tr style=\"text-align: right;\">\n",
       "      <th></th>\n",
       "      <th>A</th>\n",
       "      <th>B</th>\n",
       "      <th>C</th>\n",
       "      <th>D</th>\n",
       "    </tr>\n",
       "  </thead>\n",
       "  <tbody>\n",
       "    <tr>\n",
       "      <th>0</th>\n",
       "      <td>NaN</td>\n",
       "      <td>2.0</td>\n",
       "      <td>0.0</td>\n",
       "      <td>0.0</td>\n",
       "    </tr>\n",
       "    <tr>\n",
       "      <th>1</th>\n",
       "      <td>3.0</td>\n",
       "      <td>4.0</td>\n",
       "      <td>0.0</td>\n",
       "      <td>1.0</td>\n",
       "    </tr>\n",
       "    <tr>\n",
       "      <th>2</th>\n",
       "      <td>NaN</td>\n",
       "      <td>NaN</td>\n",
       "      <td>0.0</td>\n",
       "      <td>0.0</td>\n",
       "    </tr>\n",
       "    <tr>\n",
       "      <th>3</th>\n",
       "      <td>NaN</td>\n",
       "      <td>3.0</td>\n",
       "      <td>0.0</td>\n",
       "      <td>4.0</td>\n",
       "    </tr>\n",
       "  </tbody>\n",
       "</table>\n",
       "</div>"
      ],
      "text/plain": [
       "     A    B    C    D\n",
       "0  NaN  2.0  0.0  0.0\n",
       "1  3.0  4.0  0.0  1.0\n",
       "2  NaN  NaN  0.0  0.0\n",
       "3  NaN  3.0  0.0  4.0"
      ]
     },
     "execution_count": 30,
     "metadata": {},
     "output_type": "execute_result"
    }
   ],
   "source": [
    "\n",
    "# fillna() on multiple columns\n",
    "df[['C','D']] = df[['C','D']].fillna(0)\n",
    "df"
   ]
  },
  {
   "cell_type": "code",
   "execution_count": 33,
   "id": "80941e4b",
   "metadata": {},
   "outputs": [
    {
     "name": "stdout",
     "output_type": "stream",
     "text": [
      "  Courses      Fee Duration Discount\n",
      "0   Spark  20000.0   30days   1000.0\n",
      "1    Java  10000.0   40days        0\n",
      "2   Scala  26000.0       NA   2500.0\n",
      "3  Python  24000.0   40days        0\n"
     ]
    }
   ],
   "source": [
    "# fillna() on multiple columns with multiple values\n",
    "df2 =  df.fillna(value={'Discount':'0','Fee':10000})\n",
    "print(df2)\n"
   ]
  },
  {
   "cell_type": "markdown",
   "id": "be7c43fd",
   "metadata": {},
   "source": [
    "## Fill with limit param"
   ]
  },
  {
   "cell_type": "code",
   "execution_count": 34,
   "id": "5e850a87",
   "metadata": {},
   "outputs": [
    {
     "name": "stdout",
     "output_type": "stream",
     "text": [
      "  Courses      Fee Duration  Discount\n",
      "0   Spark  20000.0   30days    1000.0\n",
      "1    Java      NaN   40days       NaN\n",
      "2   Scala  26000.0       NA    2500.0\n",
      "3  Python  24000.0   40days       NaN\n"
     ]
    }
   ],
   "source": [
    "# Create DataFrame\n",
    "import pandas as pd\n",
    "import numpy as np\n",
    "df = pd.DataFrame(({\n",
    "     'Courses':[\"Spark\",'Java',\"Scala\",'Python'],\n",
    "     'Fee' :[20000,np.nan,26000,24000],\n",
    "     'Duration':['30days','40days','NA','40days'],\n",
    "     'Discount':[1000,np.nan,2500,None]\n",
    "               }))\n",
    "print(df)\n"
   ]
  },
  {
   "cell_type": "code",
   "execution_count": 37,
   "id": "b52fdef6",
   "metadata": {},
   "outputs": [
    {
     "name": "stdout",
     "output_type": "stream",
     "text": [
      "  Courses      Fee Duration  Discount\n",
      "0   Spark  20000.0   30days    1000.0\n",
      "1    Java      0.0   40days       0.0\n",
      "2   Scala  26000.0       NA    2500.0\n",
      "3  Python  24000.0   40days       0.0\n"
     ]
    }
   ],
   "source": [
    "\n",
    "# fill with limit\n",
    "df2=df.fillna(value={'Discount':0,'Fee':0},limit=len(df2))\n",
    "print(df2)\n"
   ]
  },
  {
   "cell_type": "code",
   "execution_count": 38,
   "id": "3c7074c9",
   "metadata": {},
   "outputs": [
    {
     "name": "stdout",
     "output_type": "stream",
     "text": [
      "  Courses      Fee\n",
      "0   Spark  20000.0\n",
      "1    Java      NaN\n",
      "2   Scala  26000.0\n",
      "3  Python  24000.0\n"
     ]
    }
   ],
   "source": [
    "# Create DataFrame\n",
    "import pandas as pd\n",
    "import numpy as np\n",
    "df = pd.DataFrame(({\n",
    "     'Courses':[\"Spark\",'Java',\"Scala\",'Python'],\n",
    "     'Fee' :[20000,np.nan,26000,24000]\n",
    "     \n",
    "               }))\n",
    "print(df)\n"
   ]
  },
  {
   "cell_type": "code",
   "execution_count": 39,
   "id": "81bb0b28",
   "metadata": {},
   "outputs": [
    {
     "data": {
      "text/plain": [
       "4"
      ]
     },
     "execution_count": 39,
     "metadata": {},
     "output_type": "execute_result"
    }
   ],
   "source": [
    "len(df)"
   ]
  },
  {
   "cell_type": "code",
   "execution_count": null,
   "id": "f73d6cc3",
   "metadata": {},
   "outputs": [],
   "source": []
  }
 ],
 "metadata": {
  "kernelspec": {
   "display_name": "Python 3 (ipykernel)",
   "language": "python",
   "name": "python3"
  },
  "language_info": {
   "codemirror_mode": {
    "name": "ipython",
    "version": 3
   },
   "file_extension": ".py",
   "mimetype": "text/x-python",
   "name": "python",
   "nbconvert_exporter": "python",
   "pygments_lexer": "ipython3",
   "version": "3.9.12"
  }
 },
 "nbformat": 4,
 "nbformat_minor": 5
}
