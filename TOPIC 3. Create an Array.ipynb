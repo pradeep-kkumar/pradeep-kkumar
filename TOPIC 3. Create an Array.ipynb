{
 "cells": [
  {
   "cell_type": "code",
   "execution_count": 1,
   "metadata": {},
   "outputs": [],
   "source": [
    "import numpy as np"
   ]
  },
  {
   "cell_type": "markdown",
   "metadata": {},
   "source": [
    "### Create an array from an iterable\n",
    "Such as\n",
    "- ```list```\n",
    "- ```tuple```\n",
    "- ```range``` iterator\n",
    "\n",
    "Notice that not all iterables can be used to create a numpy array, such as ```set``` and ```dict```"
   ]
  },
  {
   "cell_type": "code",
   "execution_count": 1,
   "metadata": {},
   "outputs": [
    {
     "name": "stdout",
     "output_type": "stream",
     "text": [
      "[5.6 7.8 9. ]\n",
      "<class 'numpy.ndarray'>\n"
     ]
    }
   ],
   "source": [
    "# Creating a numpy array using a python List\n",
    "import numpy \n",
    "\n",
    "li = [5.6,7.8,9.0]\n",
    "np_array1 = numpy.array(li)\n",
    "print(np_array1)\n",
    "print(type(np_array1))"
   ]
  },
  {
   "cell_type": "code",
   "execution_count": 2,
   "metadata": {},
   "outputs": [
    {
     "name": "stdout",
     "output_type": "stream",
     "text": [
      "[5.6 7.8 9. ]\n",
      "<class 'numpy.ndarray'>\n"
     ]
    }
   ],
   "source": [
    "# Creating a numpy array using a python tuple\n",
    "import numpy \n",
    "\n",
    "li = (5.6,7.8,9.0)\n",
    "np_array2 = numpy.array(li)\n",
    "print(np_array2)\n",
    "print(type(np_array2))"
   ]
  },
  {
   "cell_type": "code",
   "execution_count": 3,
   "metadata": {},
   "outputs": [
    {
     "name": "stdout",
     "output_type": "stream",
     "text": [
      "[[ 1  3  5  7  9 11 13 15 17 19]]\n",
      "<class 'numpy.ndarray'>\n"
     ]
    }
   ],
   "source": [
    "# Creating a numpy array using a python Range \n",
    "import numpy \n",
    "\n",
    "np_array3 = numpy.array([range(1,21,2)])\n",
    "print(np_array3)\n",
    "print(type(np_array3))"
   ]
  },
  {
   "cell_type": "markdown",
   "metadata": {},
   "source": [
    "### Creating 1-D array"
   ]
  },
  {
   "cell_type": "code",
   "execution_count": 13,
   "metadata": {},
   "outputs": [
    {
     "name": "stdout",
     "output_type": "stream",
     "text": [
      "[ 1  3  5  7  9 11 13 15 17 19]\n",
      "<class 'numpy.ndarray'>\n",
      "1\n",
      "(10,)\n"
     ]
    }
   ],
   "source": [
    "# Creating a numpy array using a python Range \n",
    "import numpy \n",
    "\n",
    "li = list(range(1,21,2))\n",
    "np_array3 = numpy.array(li)\n",
    "print(np_array3)\n",
    "print(type(np_array3))\n",
    "print(np_array3.ndim)\n",
    "print(np_array3.shape)"
   ]
  },
  {
   "cell_type": "markdown",
   "metadata": {},
   "source": [
    "### Creating 2-D array"
   ]
  },
  {
   "cell_type": "code",
   "execution_count": 14,
   "metadata": {},
   "outputs": [
    {
     "name": "stdout",
     "output_type": "stream",
     "text": [
      "[[34 56]\n",
      " [56 78]\n",
      " [89 56]]\n",
      "<class 'numpy.ndarray'>\n",
      "2\n",
      "(3, 2)\n"
     ]
    }
   ],
   "source": [
    "np_array4 = numpy.array([[34,56],[56,78],[89,56]])\n",
    "print(np_array4)\n",
    "print(type(np_array4))\n",
    "print(np_array4.ndim)\n",
    "print(np_array4.shape)"
   ]
  },
  {
   "cell_type": "markdown",
   "metadata": {},
   "source": [
    "### Creating 3-D array"
   ]
  },
  {
   "cell_type": "code",
   "execution_count": 38,
   "metadata": {},
   "outputs": [
    {
     "name": "stdout",
     "output_type": "stream",
     "text": [
      "[[[45 67]\n",
      "  [67 78]\n",
      "  [67 89]]\n",
      "\n",
      " [[12 45]\n",
      "  [45 34]\n",
      "  [67 88]]]\n",
      "<class 'numpy.ndarray'>\n",
      "3\n",
      "(2, 3, 2)\n",
      "Total size used by array:  48\n"
     ]
    }
   ],
   "source": [
    "np_array5 = numpy.array([[[45,67],[67,78],[67,89]],[[12,45],[45,34],[67,88]]])\n",
    "print(np_array5)\n",
    "print(type(np_array5))\n",
    "print(np_array5.ndim)\n",
    "print(np_array5.shape)\n",
    "print(\"Total size used by array: \", (np_array5.itemsize)*len(np_array5.flatten()))"
   ]
  },
  {
   "cell_type": "markdown",
   "metadata": {},
   "source": [
    "## Creating 4-D array"
   ]
  },
  {
   "cell_type": "code",
   "execution_count": 16,
   "metadata": {},
   "outputs": [
    {
     "name": "stdout",
     "output_type": "stream",
     "text": [
      "[[[[45 67]\n",
      "   [67 78]\n",
      "   [67 89]]\n",
      "\n",
      "  [[12 45]\n",
      "   [45 34]\n",
      "   [67 88]]]]\n",
      "<class 'numpy.ndarray'>\n",
      "4\n",
      "(1, 2, 3, 2)\n"
     ]
    }
   ],
   "source": [
    "np_array6 = numpy.array([[[[45,67],[67,78],[67,89]],[[12,45],[45,34],[67,88]]]])\n",
    "print(np_array6)\n",
    "print(type(np_array6))\n",
    "print(np_array6.ndim)\n",
    "print(np_array6.shape)"
   ]
  },
  {
   "cell_type": "markdown",
   "metadata": {},
   "source": [
    "## Creating 10-D array"
   ]
  },
  {
   "cell_type": "code",
   "execution_count": null,
   "metadata": {},
   "outputs": [],
   "source": [
    "np_array7 = numpy.array([[[[[[[[[[45,67],[67,78],[67,89]],[[12,45],[45,34],[67,88]]]]]]]]]])\n",
    "print(np_array7)\n",
    "print(type(np_array7))\n",
    "print(np_array7.ndim)"
   ]
  },
  {
   "cell_type": "code",
   "execution_count": 20,
   "metadata": {},
   "outputs": [
    {
     "name": "stdout",
     "output_type": "stream",
     "text": [
      "[[[ 1  2  3  4  5]\n",
      "  [ 6  7  8  9 10]\n",
      "  [11 12 13 14 15]\n",
      "  [16 17 18 19 20]\n",
      "  [21 22 23 24 25]]\n",
      "\n",
      " [[26 27 28 29 30]\n",
      "  [31 32 33 34 35]\n",
      "  [36 37 38 39 40]\n",
      "  [41 42 43 44 45]\n",
      "  [46 47 48 49 50]]]\n",
      "3\n",
      "(2, 5, 5)\n"
     ]
    }
   ],
   "source": [
    "# Creating a 3-D array using reshape method\n",
    "np_array = numpy.arange(1,51)\n",
    "np_array3d = np_array.reshape(2,5,5)\n",
    "print(np_array3d)\n",
    "print(np_array3d.ndim)\n",
    "print(np_array3d.shape)"
   ]
  },
  {
   "cell_type": "code",
   "execution_count": 21,
   "metadata": {},
   "outputs": [
    {
     "name": "stdout",
     "output_type": "stream",
     "text": [
      "[[[ 1  2  3  4  5  6]\n",
      "  [ 7  8  9 10 11 12]\n",
      "  [13 14 15 16 17 18]\n",
      "  [19 20 21 22 23 24]\n",
      "  [25 26 27 28 29 30]]\n",
      "\n",
      " [[31 32 33 34 35 36]\n",
      "  [37 38 39 40 41 42]\n",
      "  [43 44 45 46 47 48]\n",
      "  [49 50 51 52 53 54]\n",
      "  [55 56 57 58 59 60]]]\n",
      "3\n",
      "(2, 5, 6)\n"
     ]
    }
   ],
   "source": [
    "# Creating a 3-D array using reshape method\n",
    "np_array = numpy.arange(1,61)\n",
    "np_array3d = np_array.reshape(2,5,-1)\n",
    "print(np_array3d)\n",
    "print(np_array3d.ndim)\n",
    "print(np_array3d.shape)\n"
   ]
  },
  {
   "cell_type": "code",
   "execution_count": 22,
   "metadata": {},
   "outputs": [
    {
     "name": "stdout",
     "output_type": "stream",
     "text": [
      "[[[[[[[[[[ 1  2  3  4]\n",
      "         [ 5  6  7  8]\n",
      "         [ 9 10 11 12]]\n",
      "\n",
      "        [[13 14 15 16]\n",
      "         [17 18 19 20]\n",
      "         [21 22 23 24]]]\n",
      "\n",
      "\n",
      "       [[[25 26 27 28]\n",
      "         [29 30 31 32]\n",
      "         [33 34 35 36]]\n",
      "\n",
      "        [[37 38 39 40]\n",
      "         [41 42 43 44]\n",
      "         [45 46 47 48]]]]]]]]]]\n",
      "10\n",
      "(1, 1, 1, 1, 1, 1, 2, 2, 3, 4)\n"
     ]
    }
   ],
   "source": [
    "# Creating a 10-D array using reshape method\n",
    "\n",
    "np_array = numpy.arange(1,49)\n",
    "np_array10d = np_array.reshape(1,1,1,1,1,1,2,2,3,4)\n",
    "print(np_array10d)\n",
    "print(np_array10d.ndim)\n",
    "print(np_array10d.shape)"
   ]
  },
  {
   "cell_type": "code",
   "execution_count": 24,
   "metadata": {},
   "outputs": [
    {
     "data": {
      "text/plain": [
       "array([[[[ 1,  2,  3],\n",
       "         [ 4,  5,  6],\n",
       "         [ 7,  8,  9]],\n",
       "\n",
       "        [[10, 11, 12],\n",
       "         [13, 14, 15],\n",
       "         [16, 17, 18]],\n",
       "\n",
       "        [[19, 20, 21],\n",
       "         [22, 23, 24],\n",
       "         [25, 26, 27]]],\n",
       "\n",
       "\n",
       "       [[[28, 29, 30],\n",
       "         [31, 32, 33],\n",
       "         [34, 35, 36]],\n",
       "\n",
       "        [[37, 38, 39],\n",
       "         [40, 41, 42],\n",
       "         [43, 44, 45]],\n",
       "\n",
       "        [[46, 47, 48],\n",
       "         [49, 50, 51],\n",
       "         [52, 53, 54]]],\n",
       "\n",
       "\n",
       "       [[[55, 56, 57],\n",
       "         [58, 59, 60],\n",
       "         [61, 62, 63]],\n",
       "\n",
       "        [[64, 65, 66],\n",
       "         [67, 68, 69],\n",
       "         [70, 71, 72]],\n",
       "\n",
       "        [[73, 74, 75],\n",
       "         [76, 77, 78],\n",
       "         [79, 80, 81]]]])"
      ]
     },
     "execution_count": 24,
     "metadata": {},
     "output_type": "execute_result"
    }
   ],
   "source": [
    "# Creating a 4-D array using reshape method\n",
    "\n",
    "li = list(range(1,82))\n",
    "ar = numpy.array(li)\n",
    "arr4b = ar.reshape(3,3,3,-1) # last dimension(column) will be automatically calculated\n",
    "arr4b"
   ]
  },
  {
   "cell_type": "markdown",
   "metadata": {},
   "source": [
    "### Create an array with specified data type"
   ]
  },
  {
   "cell_type": "code",
   "execution_count": 37,
   "metadata": {},
   "outputs": [
    {
     "name": "stdout",
     "output_type": "stream",
     "text": [
      "[[[45 67]\n",
      "  [67 78]\n",
      "  [67 89]]\n",
      "\n",
      " [[12 45]\n",
      "  [45 34]\n",
      "  [67 88]]]\n",
      "<class 'numpy.ndarray'>\n",
      "3\n",
      "(2, 3, 2)\n",
      "int8\n",
      "Total size used by array:  12\n"
     ]
    }
   ],
   "source": [
    "np_array5 = numpy.array([[[45,67],[67,78],[67,89]],[[12,45],[45,34],[67,88]]], dtype='int8')\n",
    "print(np_array5)\n",
    "print(type(np_array5))\n",
    "print(np_array5.ndim)\n",
    "print(np_array5.shape)\n",
    "print(np_array5.dtype)\n",
    "print(\"Total size used by array: \", (np_array5.itemsize)*len(np_array5.flatten()))"
   ]
  },
  {
   "cell_type": "code",
   "execution_count": 39,
   "metadata": {},
   "outputs": [
    {
     "name": "stdout",
     "output_type": "stream",
     "text": [
      "[[[45. 67.]\n",
      "  [67. 78.]\n",
      "  [67. 89.]]\n",
      "\n",
      " [[12. 45.]\n",
      "  [45. 34.]\n",
      "  [67. 88.]]]\n",
      "<class 'numpy.ndarray'>\n",
      "3\n",
      "(2, 3, 2)\n",
      "float16\n",
      "Total size used by array:  24\n"
     ]
    }
   ],
   "source": [
    "np_array5 = numpy.array([[[45,67],[67,78],[67,89]],[[12,45],[45,34],[67,88]]], dtype='float16')\n",
    "print(np_array5)\n",
    "print(type(np_array5))\n",
    "print(np_array5.ndim)\n",
    "print(np_array5.shape)\n",
    "print(np_array5.dtype)\n",
    "print(\"Total size used by array: \", (np_array5.itemsize)*len(np_array5.flatten()))"
   ]
  },
  {
   "cell_type": "code",
   "execution_count": 41,
   "metadata": {},
   "outputs": [
    {
     "name": "stdout",
     "output_type": "stream",
     "text": [
      "[[[45.+0.j 67.+0.j]\n",
      "  [67.+0.j 78.+0.j]\n",
      "  [67.+0.j 89.+0.j]]\n",
      "\n",
      " [[12.+0.j 45.+0.j]\n",
      "  [45.+0.j 34.+0.j]\n",
      "  [67.+0.j 88.+0.j]]]\n",
      "<class 'numpy.ndarray'>\n",
      "3\n",
      "(2, 3, 2)\n",
      "complex64\n",
      "Total size used by array:  96\n"
     ]
    }
   ],
   "source": [
    "np_array5 = numpy.array([[[45,67],[67,78],[67,89]],[[12,45],[45,34],[67,88]]], dtype='complex64')\n",
    "print(np_array5)\n",
    "print(type(np_array5))\n",
    "print(np_array5.ndim)\n",
    "print(np_array5.shape)\n",
    "print(np_array5.dtype)\n",
    "print(\"Total size used by array: \", (np_array5.itemsize)*len(np_array5.flatten()))"
   ]
  },
  {
   "cell_type": "code",
   "execution_count": null,
   "metadata": {},
   "outputs": [],
   "source": [
    "np_array5 = numpy.array([[[45,67],[67,78],[67,89]],[[12,45],[45,34],[67,88]]], dtype='int8')\n",
    "print(np_array5)\n",
    "print(type(np_array5))\n",
    "print(np_array5.ndim)\n",
    "print(np_array5.shape)\n",
    "print(np_array5.dtype)\n",
    "print(\"Total size used by array: \", (np_array5.itemsize)*len(np_array5.flatten()))"
   ]
  },
  {
   "cell_type": "code",
   "execution_count": 47,
   "metadata": {},
   "outputs": [
    {
     "name": "stdout",
     "output_type": "stream",
     "text": [
      "[[['4' '6']\n",
      "  ['6' '7']\n",
      "  ['6' '8']]\n",
      "\n",
      " [['1' '4']\n",
      "  ['4' '3']\n",
      "  ['6' '8']]]\n",
      "<class 'numpy.ndarray'>\n",
      "3\n",
      "(2, 3, 2)\n",
      "<U1\n",
      "Total size used by array:  48\n"
     ]
    }
   ],
   "source": [
    "np_array5 = numpy.array([[[45,67],[67,78],[67,89]],[[12,45],[45,34],[67,88]]], dtype='U1')\n",
    "print(np_array5)\n",
    "print(type(np_array5))\n",
    "print(np_array5.ndim)\n",
    "print(np_array5.shape)\n",
    "print(np_array5.dtype)\n",
    "print(\"Total size used by array: \", (np_array5.itemsize)*len(np_array5.flatten()))"
   ]
  },
  {
   "cell_type": "markdown",
   "metadata": {},
   "source": [
    "### Create an aray within specified range\n",
    "```np.arange()``` method can be used to replace ```np.array(range())``` method"
   ]
  },
  {
   "cell_type": "code",
   "execution_count": 49,
   "metadata": {},
   "outputs": [
    {
     "data": {
      "text/plain": [
       "array([ 4,  6,  8, 10])"
      ]
     },
     "execution_count": 49,
     "metadata": {},
     "output_type": "execute_result"
    }
   ],
   "source": [
    "# np.arange(start, stop, step)\n",
    "\n",
    "arr11 = numpy.arange(4,11,2)\n",
    "arr11"
   ]
  },
  {
   "cell_type": "markdown",
   "metadata": {},
   "source": [
    "### Create an array of evenly spaced numbers within specified range\n",
    "```np.linspace(start, stop, num_of_elements, endpoint=True, retstep=False)``` has 5 parameters:\n",
    "- ```start```: start number (inclusive)\n",
    "- ```stop```: end number (inclusive unless ```endpoint``` set to ```False```)\n",
    "- ```num_of_elements```: number of elements contained in the array\n",
    "- ```endpoint```: boolean value representing whether the ```stop``` number is inclusive or not\n",
    "- ```retstep```: boolean value representing whether to return the step size"
   ]
  },
  {
   "cell_type": "code",
   "execution_count": 70,
   "metadata": {},
   "outputs": [
    {
     "name": "stdout",
     "output_type": "stream",
     "text": [
      "54\n",
      "94\n",
      "2\n",
      "39\n",
      "48\n",
      "25\n",
      "35\n",
      "73\n",
      "56\n",
      "21\n"
     ]
    }
   ],
   "source": [
    "import random\n",
    "\n",
    "random.seed(12345)\n",
    "for i in range(10):\n",
    "    print(random.randint(1,100))"
   ]
  },
  {
   "cell_type": "code",
   "execution_count": null,
   "metadata": {},
   "outputs": [],
   "source": []
  },
  {
   "cell_type": "markdown",
   "metadata": {},
   "source": [
    "### Create an array of random values of given shape\n",
    "```numpy.random.rand()``` method returns values in the range [0,1)"
   ]
  },
  {
   "cell_type": "code",
   "execution_count": 74,
   "metadata": {},
   "outputs": [
    {
     "name": "stdout",
     "output_type": "stream",
     "text": [
      "[[[0.56795844 0.24541541 0.67961135]\n",
      "  [0.99360759 0.96282753 0.48370119]\n",
      "  [0.60901648 0.75342724 0.963311  ]]\n",
      "\n",
      " [[0.68361445 0.28228904 0.76859346]\n",
      "  [0.67231749 0.27235024 0.4465061 ]\n",
      "  [0.55390656 0.66155582 0.26193006]]]\n"
     ]
    }
   ],
   "source": [
    "arr = numpy.random.rand(2,3, 3)\n",
    "print(arr)"
   ]
  },
  {
   "cell_type": "code",
   "execution_count": 75,
   "metadata": {},
   "outputs": [
    {
     "ename": "ValueError",
     "evalue": "low >= high",
     "output_type": "error",
     "traceback": [
      "\u001b[1;31m---------------------------------------------------------------------------\u001b[0m",
      "\u001b[1;31mValueError\u001b[0m                                Traceback (most recent call last)",
      "Input \u001b[1;32mIn [75]\u001b[0m, in \u001b[0;36m<cell line: 1>\u001b[1;34m()\u001b[0m\n\u001b[1;32m----> 1\u001b[0m arr111 \u001b[38;5;241m=\u001b[39m \u001b[43mnumpy\u001b[49m\u001b[38;5;241;43m.\u001b[39;49m\u001b[43mrandom\u001b[49m\u001b[38;5;241;43m.\u001b[39;49m\u001b[43mrandint\u001b[49m\u001b[43m(\u001b[49m\u001b[43m(\u001b[49m\u001b[38;5;241;43m1\u001b[39;49m\u001b[43m,\u001b[49m\u001b[38;5;241;43m100\u001b[39;49m\u001b[43m)\u001b[49m\u001b[43m,\u001b[49m\u001b[38;5;241;43m3\u001b[39;49m\u001b[43m,\u001b[49m\u001b[43m \u001b[49m\u001b[38;5;241;43m3\u001b[39;49m\u001b[43m)\u001b[49m\n\u001b[0;32m      2\u001b[0m \u001b[38;5;28mprint\u001b[39m(arr111)\n",
      "File \u001b[1;32mmtrand.pyx:746\u001b[0m, in \u001b[0;36mnumpy.random.mtrand.RandomState.randint\u001b[1;34m()\u001b[0m\n",
      "File \u001b[1;32m_bounded_integers.pyx:1353\u001b[0m, in \u001b[0;36mnumpy.random._bounded_integers._rand_int32\u001b[1;34m()\u001b[0m\n",
      "File \u001b[1;32m_bounded_integers.pyx:376\u001b[0m, in \u001b[0;36mnumpy.random._bounded_integers._rand_int32_broadcast\u001b[1;34m()\u001b[0m\n",
      "\u001b[1;31mValueError\u001b[0m: low >= high"
     ]
    }
   ],
   "source": [
    "arr111 = numpy.random.randint((1,100),3, 3)\n",
    "print(arr111)"
   ]
  },
  {
   "cell_type": "markdown",
   "metadata": {},
   "source": [
    "### Create an array of zeros of given shape \n",
    "- ```np.zeros()```: create array of all zeros in given shape\n",
    "- ```np.zeros_like()```: create array of all zeros with the same shape and data type as the given input array"
   ]
  },
  {
   "cell_type": "code",
   "execution_count": null,
   "metadata": {},
   "outputs": [],
   "source": []
  },
  {
   "cell_type": "code",
   "execution_count": 76,
   "metadata": {},
   "outputs": [],
   "source": [
    "# Array of complex zero\n"
   ]
  },
  {
   "cell_type": "markdown",
   "metadata": {},
   "source": [
    "### Create an array of ones of given shape \n",
    "- ```np.ones()```: create array of all ones in given shape\n",
    "- ```np.ones_like()```: create array of all ones with the same shape and data type as the given input array"
   ]
  },
  {
   "cell_type": "code",
   "execution_count": null,
   "metadata": {},
   "outputs": [],
   "source": []
  },
  {
   "cell_type": "code",
   "execution_count": null,
   "metadata": {},
   "outputs": [],
   "source": []
  },
  {
   "cell_type": "markdown",
   "metadata": {},
   "source": [
    "### Create an empty array of given shape \n",
    "- ```np.empty()```: create array of empty values in given shape\n",
    "- ```np.empty_like()```: create array of empty values with the same shape and data type as the given input array\n",
    "\n",
    "Notice that the initial values are not necessarily set to zeroes.\n",
    "\n",
    "They are just some garbage values in random memory addresses."
   ]
  },
  {
   "cell_type": "code",
   "execution_count": null,
   "metadata": {},
   "outputs": [],
   "source": []
  },
  {
   "cell_type": "code",
   "execution_count": null,
   "metadata": {},
   "outputs": [],
   "source": []
  },
  {
   "cell_type": "markdown",
   "metadata": {},
   "source": [
    "### Create an array of constant values of given shape  \n",
    "- ```np.full()```: create array of constant values in given shape\n",
    "- ```np.full_like()```: create array of constant values with the same shape and data type as the given input array"
   ]
  },
  {
   "cell_type": "code",
   "execution_count": null,
   "metadata": {},
   "outputs": [],
   "source": []
  },
  {
   "cell_type": "code",
   "execution_count": null,
   "metadata": {},
   "outputs": [],
   "source": []
  },
  {
   "cell_type": "markdown",
   "metadata": {},
   "source": [
    "### Create an array in a repetitive manner\n",
    "- ```np.repeat(iterable, reps, axis=None)```: repeat each element by n times\n",
    "    - ```iterable```: input array\n",
    "    - ```reps```: number of repetitions\n",
    "    - ```axis```: which axis to repeat along, default is ```None``` which will flatten the input array and then repeat\n",
    "- ```np.tile()```: repeat the whole array by n times\n",
    "    - ```iterable```: input array\n",
    "    - ```reps```: number of repetitions, it can be a tuple to represent repetitions along x-axis and y-axis"
   ]
  },
  {
   "cell_type": "code",
   "execution_count": 86,
   "metadata": {},
   "outputs": [],
   "source": [
    "# No axis specified, then flatten the input array first and repeat\n"
   ]
  },
  {
   "cell_type": "code",
   "execution_count": 87,
   "metadata": {},
   "outputs": [],
   "source": [
    "# An example of repeating along x-axis\n"
   ]
  },
  {
   "cell_type": "code",
   "execution_count": 88,
   "metadata": {},
   "outputs": [],
   "source": [
    "# An example of repeating along y-axis\n"
   ]
  },
  {
   "cell_type": "code",
   "execution_count": 89,
   "metadata": {},
   "outputs": [],
   "source": [
    "# Repeat the whole array by a specified number of times\n"
   ]
  },
  {
   "cell_type": "code",
   "execution_count": null,
   "metadata": {},
   "outputs": [],
   "source": []
  },
  {
   "cell_type": "markdown",
   "metadata": {},
   "source": [
    "### Create an identity matrix of given size\n",
    "- ```np.eye(size, k=0)```: create an identity matrix of given size\n",
    "    - ```size```: the size of the identity matrix\n",
    "    - ```k```: the diagonal offset\n",
    "- ```np.identity()```: same as ```np.eye()``` but does not carry parameters"
   ]
  },
  {
   "cell_type": "code",
   "execution_count": null,
   "metadata": {},
   "outputs": [],
   "source": []
  },
  {
   "cell_type": "code",
   "execution_count": 23,
   "metadata": {},
   "outputs": [
    {
     "name": "stdout",
     "output_type": "stream",
     "text": [
      "[[0. 0. 0. 0. 0.]\n",
      " [1. 0. 0. 0. 0.]\n",
      " [0. 1. 0. 0. 0.]\n",
      " [0. 0. 1. 0. 0.]\n",
      " [0. 0. 0. 1. 0.]]\n"
     ]
    }
   ],
   "source": [
    "# An example of diagonal offset\n",
    "identity_matrix = np.eye(5, k=-1)\n",
    "print(identity_matrix)"
   ]
  },
  {
   "cell_type": "code",
   "execution_count": 24,
   "metadata": {},
   "outputs": [
    {
     "name": "stdout",
     "output_type": "stream",
     "text": [
      "[[1. 0. 0. 0. 0.]\n",
      " [0. 1. 0. 0. 0.]\n",
      " [0. 0. 1. 0. 0.]\n",
      " [0. 0. 0. 1. 0.]\n",
      " [0. 0. 0. 0. 1.]]\n"
     ]
    }
   ],
   "source": [
    "identity_matrix = np.identity(5)\n",
    "print(identity_matrix)"
   ]
  },
  {
   "cell_type": "markdown",
   "metadata": {},
   "source": [
    "### Create an array with given values on the diagonal"
   ]
  },
  {
   "cell_type": "code",
   "execution_count": 25,
   "metadata": {},
   "outputs": [
    {
     "name": "stdout",
     "output_type": "stream",
     "text": [
      "[[0.04481892 0.32920508 0.09746329 0.88717729 0.73704537]\n",
      " [0.99842459 0.3842842  0.55263992 0.76554596 0.55017239]\n",
      " [0.48540154 0.85297201 0.82429168 0.27125055 0.79634355]\n",
      " [0.41327049 0.68932437 0.10586385 0.48118436 0.476337  ]\n",
      " [0.05556156 0.27141898 0.11705936 0.83691925 0.49439961]]\n",
      "Values on the diagonal: [0.04481892 0.3842842  0.82429168 0.48118436 0.49439961]\n"
     ]
    }
   ],
   "source": [
    "arr = np.random.rand(5,5)\n",
    "print(arr)\n",
    "# Extract values on the diagonal\n",
    "print('Values on the diagonal: ' + str(np.diag(arr)))"
   ]
  },
  {
   "cell_type": "code",
   "execution_count": 26,
   "metadata": {},
   "outputs": [
    {
     "name": "stdout",
     "output_type": "stream",
     "text": [
      "[[0.44008485 0.19254758 0.65707551]\n",
      " [0.06838026 0.43745833 0.22630033]\n",
      " [0.86801201 0.65430091 0.93617918]\n",
      " [0.72927673 0.61550749 0.87328398]\n",
      " [0.11083138 0.15582005 0.54587358]\n",
      " [0.80298985 0.89705779 0.18045105]\n",
      " [0.93153603 0.84343715 0.39326583]\n",
      " [0.29509183 0.49859358 0.32320668]\n",
      " [0.13389313 0.6620257  0.50146751]\n",
      " [0.69110925 0.97077549 0.11649333]]\n",
      "Values on the diagonal: [0.44008485 0.43745833 0.93617918]\n"
     ]
    }
   ],
   "source": [
    "# Not necessarily to be a square matrix\n",
    "arr = np.random.rand(10,3)\n",
    "print(arr)\n",
    "# Extract values on the diagonal\n",
    "print('Values on the diagonal: ' + str(np.diag(arr)))"
   ]
  },
  {
   "cell_type": "code",
   "execution_count": 90,
   "metadata": {},
   "outputs": [],
   "source": [
    "# Create a matrix given values on the diagonal\n",
    "# All non-diagonal values set to zeros\n"
   ]
  },
  {
   "cell_type": "code",
   "execution_count": null,
   "metadata": {},
   "outputs": [],
   "source": []
  }
 ],
 "metadata": {
  "kernelspec": {
   "display_name": "Python 3 (ipykernel)",
   "language": "python",
   "name": "python3"
  },
  "language_info": {
   "codemirror_mode": {
    "name": "ipython",
    "version": 3
   },
   "file_extension": ".py",
   "mimetype": "text/x-python",
   "name": "python",
   "nbconvert_exporter": "python",
   "pygments_lexer": "ipython3",
   "version": "3.9.12"
  }
 },
 "nbformat": 4,
 "nbformat_minor": 2
}
