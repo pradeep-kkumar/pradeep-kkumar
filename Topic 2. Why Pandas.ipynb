{
 "cells": [
  {
   "cell_type": "code",
   "execution_count": 1,
   "id": "c6d4b551",
   "metadata": {},
   "outputs": [
    {
     "name": "stdout",
     "output_type": "stream",
     "text": [
      "Max temperature is:  50\n",
      "Days of rain:  ['1/9/2016', '1/10/2016', '1/16/2016', '1/27/2016']\n",
      "Average wind speed is:  6.225806451612903\n"
     ]
    }
   ],
   "source": [
    "# This program shows that without using pandas getting answers on below questions is hard and not convinient\n",
    "# (1) Max temperature in New York in month of January\n",
    "# (2) List of days when it rained\n",
    "# (3) Average speed of wind in month of january\n",
    "__parsed_rows = []\n",
    "\n",
    "def parse_csv():\n",
    "    import csv\n",
    "    __file_path = \"nyc_weather.csv\"\n",
    "    __index = {\n",
    "        'date': 0,\n",
    "        'temperature': 1,\n",
    "        'DewPoint': 2,\n",
    "        'Humidity': 3,\n",
    "        'Sea_Level_PressureIn': 4,\n",
    "        'VisibilityMiles': 5,\n",
    "        'WindSpeedMPH': 6,\n",
    "        'PrecipitationIn': 7,\n",
    "        'CloudCover': 8,\n",
    "        'Events' : 9,\n",
    "        'WindDirDegrees': 10\n",
    "    }\n",
    "\n",
    "    global __parsed_rows\n",
    "    with open(__file_path, \"r\") as f:\n",
    "        reader = csv.reader(f)\n",
    "        next(reader, None)\n",
    "        for row in reader:\n",
    "            __parsed_rows.append({\n",
    "                'date':  row[__index['date']],\n",
    "                'temperature': row[__index['temperature']],\n",
    "                'DewPoint': row[__index['DewPoint']],\n",
    "                'Humidity': row[__index['Humidity']],\n",
    "                'Sea_Level_PressureIn': row[__index['Sea_Level_PressureIn']],\n",
    "                'VisibilityMiles': row[__index['VisibilityMiles']],\n",
    "                'WindSpeedMPH': row[__index['WindSpeedMPH']],\n",
    "                'PrecipitationIn': row[__index['PrecipitationIn']],\n",
    "                'CloudCover': row[__index['CloudCover']],\n",
    "                'Events': row[__index['Events']],\n",
    "                'WindDirDegrees': row[__index['WindDirDegrees']]\n",
    "            })\n",
    "\n",
    "\n",
    "def get_days_for_event(event_name):\n",
    "    days = []\n",
    "    for row in __parsed_rows:\n",
    "        if row['Events'] == event_name:\n",
    "            days.append(row['date'])\n",
    "    return days\n",
    "\n",
    "def get_max_temperature():\n",
    "    max_temp = 0\n",
    "    for row in __parsed_rows:\n",
    "        if int(row['temperature']) > max_temp:\n",
    "            max_temp = int(row['temperature'])\n",
    "    return max_temp\n",
    "\n",
    "def get_average_wind_speed():\n",
    "    total = 0\n",
    "    count = 0\n",
    "    for row in __parsed_rows:\n",
    "        speed = 0 if row['WindSpeedMPH']=='' else int(row['WindSpeedMPH'])\n",
    "        total += speed\n",
    "        count+=1\n",
    "    return total/count\n",
    "\n",
    "if __name__==\"__main__\":\n",
    "    parse_csv()\n",
    "\n",
    "    print(\"Max temperature is: \",get_max_temperature())\n",
    "    print (\"Days of rain: \", get_days_for_event('Rain'))\n",
    "    print(\"Average wind speed is: \", get_average_wind_speed())"
   ]
  },
  {
   "cell_type": "code",
   "execution_count": null,
   "id": "f799db9f",
   "metadata": {},
   "outputs": [],
   "source": []
  }
 ],
 "metadata": {
  "kernelspec": {
   "display_name": "Python 3 (ipykernel)",
   "language": "python",
   "name": "python3"
  },
  "language_info": {
   "codemirror_mode": {
    "name": "ipython",
    "version": 3
   },
   "file_extension": ".py",
   "mimetype": "text/x-python",
   "name": "python",
   "nbconvert_exporter": "python",
   "pygments_lexer": "ipython3",
   "version": "3.9.12"
  }
 },
 "nbformat": 4,
 "nbformat_minor": 5
}
