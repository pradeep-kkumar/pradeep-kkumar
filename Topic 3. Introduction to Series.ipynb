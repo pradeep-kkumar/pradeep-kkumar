{
 "cells": [
  {
   "cell_type": "markdown",
   "id": "ab615ca1",
   "metadata": {},
   "source": [
    "## What is Pandas Series\n",
    "\n",
    "Pandas Series is a one-dimensional array that is capable of storing various data types (integer, string, float, python objects, etc.). We can easily convert the list, tuple, and dictionary into Series using the Series() method. In pandas Series, the row labels of Series are called the index. The Series can have only one column. A List, NumPy Array, Dict can be turned into a pandas Series.   \n",
    "\n",
    "### Pandas Series vs DataFrame?\n",
    "\n",
    "As explained above, pandas Series is a one-dimensional labeled array of the same data type whereas DataFrame is a 2-dimensional labeled data structure with columns of potentially different types. \n",
    "\n",
    "In a DataFrame, each column of data is represented as a pandas Series.\n",
    "DataFrame column can have a name/label but, Series cannot have a column name.\n",
    "\n",
    "DataFrame can also be converted to Series and single or multiple Series can be converted to a DataFrame. Refer to pandas DataFrame Tutorial for more details and examples on DataFrame.\n",
    "\n",
    "### Pandas.series() Constructor\n",
    "\n",
    "Below is the syntax of pandas Series Constructor, which is used to create Pandas Series objects.\n",
    "\n",
    "#### Syntax:\n",
    "    Pandas.Series(data,index,dtype,copy)\n",
    "\n",
    "where,\n",
    "\n",
    "- data: The data contains ndarray, list, constants.\n",
    "- Index: The index must be unique and hashable. np.arrange(n) if no index is passed.\n",
    "- dtype: dtype is also a data type.\n",
    "- copy: It is used to copy the data. The data contains ndarray, list, constants.\n",
    "\n",
    "## Create Pandas Series\n",
    "\n",
    "Pandas Series can be created in multiple ways, From array, list, dict, and from existing DataFrame.\n",
    "\n",
    "### 1 Create Series using array\n",
    "\n",
    "Before creating a Series, first, we have to import the NumPy module and use array() function in the program. If the data is ndarray, then the passed index should be in the same length, if the index is not passed the default value is range(n)."
   ]
  },
  {
   "cell_type": "code",
   "execution_count": 15,
   "id": "85a667eb",
   "metadata": {},
   "outputs": [
    {
     "name": "stdout",
     "output_type": "stream",
     "text": [
      "0       C\n",
      "1     C++\n",
      "2    Java\n",
      "dtype: object\n",
      "<class 'pandas.core.series.Series'>\n",
      "0       C\n",
      "1     C++\n",
      "2    Java\n",
      "dtype: object\n",
      "<class 'pandas.core.series.Series'>\n"
     ]
    },
    {
     "ename": "TypeError",
     "evalue": "'set' type is unordered",
     "output_type": "error",
     "traceback": [
      "\u001b[1;31m---------------------------------------------------------------------------\u001b[0m",
      "\u001b[1;31mTypeError\u001b[0m                                 Traceback (most recent call last)",
      "Input \u001b[1;32mIn [15]\u001b[0m, in \u001b[0;36m<cell line: 25>\u001b[1;34m()\u001b[0m\n\u001b[0;32m     21\u001b[0m \u001b[38;5;66;03m# Create Series from python set\u001b[39;00m\n\u001b[0;32m     23\u001b[0m set1 \u001b[38;5;241m=\u001b[39m {\u001b[38;5;124m'\u001b[39m\u001b[38;5;124mC\u001b[39m\u001b[38;5;124m'\u001b[39m,\u001b[38;5;124m'\u001b[39m\u001b[38;5;124mC++\u001b[39m\u001b[38;5;124m'\u001b[39m,\u001b[38;5;124m'\u001b[39m\u001b[38;5;124mJava\u001b[39m\u001b[38;5;124m'\u001b[39m}\n\u001b[1;32m---> 25\u001b[0m ser3 \u001b[38;5;241m=\u001b[39m \u001b[43mpd\u001b[49m\u001b[38;5;241;43m.\u001b[39;49m\u001b[43mSeries\u001b[49m\u001b[43m(\u001b[49m\u001b[43mset1\u001b[49m\u001b[43m)\u001b[49m\n\u001b[0;32m     26\u001b[0m \u001b[38;5;28mprint\u001b[39m(ser3)\n\u001b[0;32m     27\u001b[0m \u001b[38;5;28mprint\u001b[39m(\u001b[38;5;28mtype\u001b[39m(ser3))\n",
      "File \u001b[1;32m~\\anaconda3\\lib\\site-packages\\pandas\\core\\series.py:451\u001b[0m, in \u001b[0;36mSeries.__init__\u001b[1;34m(self, data, index, dtype, name, copy, fastpath)\u001b[0m\n\u001b[0;32m    449\u001b[0m         data \u001b[38;5;241m=\u001b[39m data\u001b[38;5;241m.\u001b[39mcopy()\n\u001b[0;32m    450\u001b[0m \u001b[38;5;28;01melse\u001b[39;00m:\n\u001b[1;32m--> 451\u001b[0m     data \u001b[38;5;241m=\u001b[39m \u001b[43msanitize_array\u001b[49m\u001b[43m(\u001b[49m\u001b[43mdata\u001b[49m\u001b[43m,\u001b[49m\u001b[43m \u001b[49m\u001b[43mindex\u001b[49m\u001b[43m,\u001b[49m\u001b[43m \u001b[49m\u001b[43mdtype\u001b[49m\u001b[43m,\u001b[49m\u001b[43m \u001b[49m\u001b[43mcopy\u001b[49m\u001b[43m)\u001b[49m\n\u001b[0;32m    453\u001b[0m     manager \u001b[38;5;241m=\u001b[39m get_option(\u001b[38;5;124m\"\u001b[39m\u001b[38;5;124mmode.data_manager\u001b[39m\u001b[38;5;124m\"\u001b[39m)\n\u001b[0;32m    454\u001b[0m     \u001b[38;5;28;01mif\u001b[39;00m manager \u001b[38;5;241m==\u001b[39m \u001b[38;5;124m\"\u001b[39m\u001b[38;5;124mblock\u001b[39m\u001b[38;5;124m\"\u001b[39m:\n",
      "File \u001b[1;32m~\\anaconda3\\lib\\site-packages\\pandas\\core\\construction.py:581\u001b[0m, in \u001b[0;36msanitize_array\u001b[1;34m(data, index, dtype, copy, raise_cast_failure, allow_2d)\u001b[0m\n\u001b[0;32m    578\u001b[0m \u001b[38;5;28;01melse\u001b[39;00m:\n\u001b[0;32m    579\u001b[0m     \u001b[38;5;28;01mif\u001b[39;00m \u001b[38;5;28misinstance\u001b[39m(data, (\u001b[38;5;28mset\u001b[39m, \u001b[38;5;28mfrozenset\u001b[39m)):\n\u001b[0;32m    580\u001b[0m         \u001b[38;5;66;03m# Raise only for unordered sets, e.g., not for dict_keys\u001b[39;00m\n\u001b[1;32m--> 581\u001b[0m         \u001b[38;5;28;01mraise\u001b[39;00m \u001b[38;5;167;01mTypeError\u001b[39;00m(\u001b[38;5;124mf\u001b[39m\u001b[38;5;124m\"\u001b[39m\u001b[38;5;124m'\u001b[39m\u001b[38;5;132;01m{\u001b[39;00m\u001b[38;5;28mtype\u001b[39m(data)\u001b[38;5;241m.\u001b[39m\u001b[38;5;18m__name__\u001b[39m\u001b[38;5;132;01m}\u001b[39;00m\u001b[38;5;124m'\u001b[39m\u001b[38;5;124m type is unordered\u001b[39m\u001b[38;5;124m\"\u001b[39m)\n\u001b[0;32m    583\u001b[0m     \u001b[38;5;66;03m# materialize e.g. generators, convert e.g. tuples, abc.ValueView\u001b[39;00m\n\u001b[0;32m    584\u001b[0m     \u001b[38;5;28;01mif\u001b[39;00m \u001b[38;5;28mhasattr\u001b[39m(data, \u001b[38;5;124m\"\u001b[39m\u001b[38;5;124m__array__\u001b[39m\u001b[38;5;124m\"\u001b[39m):\n\u001b[0;32m    585\u001b[0m         \u001b[38;5;66;03m# e.g. dask array GH#38645\u001b[39;00m\n",
      "\u001b[1;31mTypeError\u001b[0m: 'set' type is unordered"
     ]
    }
   ],
   "source": [
    "# import pandas\n",
    "\n",
    "import pandas as pd\n",
    "\n",
    "# Create Series from python list\n",
    "\n",
    "li = ['C','C++','Java']\n",
    "\n",
    "ser1 = pd.Series(li)\n",
    "print(ser1)\n",
    "print(type(ser1))\n",
    "\n",
    "# Create Series from python tuple\n",
    "\n",
    "li1 = ('C','C++','Java')\n",
    "\n",
    "ser2 = pd.Series(li1)\n",
    "print(ser2)\n",
    "print(type(ser2))\n",
    "\n",
    "# Create Series from python set\n",
    "\n",
    "set1 = {'C','C++','Java'}\n",
    "\n",
    "ser3 = pd.Series(set1)\n",
    "print(ser3)\n",
    "print(type(ser3))"
   ]
  },
  {
   "cell_type": "code",
   "execution_count": 16,
   "id": "e2ca53aa",
   "metadata": {},
   "outputs": [
    {
     "name": "stdout",
     "output_type": "stream",
     "text": [
      "0      Mark\n",
      "1      Rita\n",
      "2     Vicki\n",
      "3    Justin\n",
      "4      John\n",
      "5    Michal\n",
      "dtype: object\n"
     ]
    }
   ],
   "source": [
    "import pandas as pd\n",
    "# Create a Series object from a list\n",
    "names = pd.Series(['Mark', 'Rita', 'Vicki', 'Justin', 'John', 'Michal'])\n",
    "# Display the Pandas series object\n",
    "print(names)"
   ]
  },
  {
   "cell_type": "code",
   "execution_count": 22,
   "id": "443b5527",
   "metadata": {},
   "outputs": [
    {
     "name": "stdout",
     "output_type": "stream",
     "text": [
      "R1       C\n",
      "R2     C++\n",
      "R3    Java\n",
      "dtype: object\n",
      "<class 'pandas.core.series.Series'>\n"
     ]
    }
   ],
   "source": [
    "# Create pandas Series with custom index\n",
    "\n",
    "li1 = ('C','C++','Java')\n",
    "\n",
    "ser2 = pd.Series(li1, index=['R1','R2','R3'])\n",
    "print(ser2)\n",
    "print(type(ser2))\n"
   ]
  },
  {
   "cell_type": "markdown",
   "id": "0ad76fbc",
   "metadata": {},
   "source": [
    "### 2. Create Series using Dict\n",
    "\n",
    "A Dict can be used as input. Keys from Dict are used as Index and values are used as a column."
   ]
  },
  {
   "cell_type": "code",
   "execution_count": 17,
   "id": "8be692dc",
   "metadata": {},
   "outputs": [],
   "source": [
    "# Create a Dict from a input\n"
   ]
  },
  {
   "cell_type": "markdown",
   "id": "b6ff0ac0",
   "metadata": {},
   "source": [
    "Now let’s see how to ignore Index from Dict and add the Index while creating a Series with Dict."
   ]
  },
  {
   "cell_type": "code",
   "execution_count": 18,
   "id": "fc62fec7",
   "metadata": {},
   "outputs": [],
   "source": [
    "# To See index from Dict and add index while creating a Series.\n",
    "\n"
   ]
  },
  {
   "cell_type": "markdown",
   "id": "eebd0cc4",
   "metadata": {},
   "source": [
    "### 3. Create Series using List\n",
    "\n",
    "Below is an example of creating DataFrame from List."
   ]
  },
  {
   "cell_type": "code",
   "execution_count": 19,
   "id": "0982f811",
   "metadata": {},
   "outputs": [],
   "source": [
    "#Creating DataFrame from List\n"
   ]
  },
  {
   "cell_type": "markdown",
   "id": "7ddb0936",
   "metadata": {},
   "source": [
    "### 4. Create Empty Series\n",
    "\n",
    "Sometimes you would require to create an empty Series. you can do so by using its empty constructor."
   ]
  },
  {
   "cell_type": "code",
   "execution_count": 20,
   "id": "fa76f7db",
   "metadata": {},
   "outputs": [],
   "source": [
    "import pandas as pd\n"
   ]
  },
  {
   "cell_type": "markdown",
   "id": "e0ad36ac",
   "metadata": {},
   "source": [
    "## Convert a Series into a DataFrame?\n",
    "\n",
    "To convert Series into DataFrame, you can use pandas.concat(), pandas.merge(), DataFrame.join()."
   ]
  },
  {
   "cell_type": "code",
   "execution_count": null,
   "id": "239bd339",
   "metadata": {},
   "outputs": [],
   "source": []
  },
  {
   "cell_type": "markdown",
   "id": "1316363a",
   "metadata": {},
   "source": [
    "## Convert pandas DataFrame to Series?\n",
    "\n",
    "To convert DataFrame to Series. As I explained in the beginning, every column in a DataFrame is a Series. hence, we can convert single or multiple columns into Series.\n",
    "\n",
    "- Single DataFrame column into a Series (from a single-column DataFrame)\n",
    "- Specific DataFrame column into a Series (from a multi-column DataFrame)\n",
    "- Single row in the DataFrame into a Series\n",
    "\n",
    "### 1. Convert a single DataFrame column into a series:\n",
    "\n",
    "Let’s create a DataFrame with a single column. By using DataFrame.squeeze() to convert the DataFrame into a Series:"
   ]
  },
  {
   "cell_type": "code",
   "execution_count": null,
   "id": "0bfbba94",
   "metadata": {},
   "outputs": [],
   "source": []
  },
  {
   "cell_type": "markdown",
   "id": "0c8946ed",
   "metadata": {},
   "source": [
    "### 2. Convert a specific DataFrame column into a series:\n",
    "\n",
    "If you have a DataFrame with multiple columns, and you’d like to convert a specific column into a series.\n",
    "\n",
    "For example, if we a multiple-column DataFrame"
   ]
  },
  {
   "cell_type": "code",
   "execution_count": 10,
   "id": "8ee20af9",
   "metadata": {},
   "outputs": [
    {
     "name": "stdout",
     "output_type": "stream",
     "text": [
      "   Courses Duration    Fee\n",
      "0    Spark  30 days  20000\n",
      "1  PySpark  40 days  25000\n",
      "2   Python  50 days  26000\n",
      "<class 'pandas.core.frame.DataFrame'>\n"
     ]
    }
   ],
   "source": [
    "# create DataFrame with multiple columns\n",
    "import pandas as pd\n",
    "data = {'Courses': ['Spark', 'PySpark', 'Python'],\n",
    "        'Duration':['30 days', '40 days', '50 days'],\n",
    "        'Fee':[20000, 25000, 26000]\n",
    "        }\n",
    "df = pd.DataFrame(data, columns = ['Courses', 'Duration', 'Fee'])\n",
    "print(df)\n",
    "print (type(df))"
   ]
  },
  {
   "cell_type": "markdown",
   "id": "f95b1b03",
   "metadata": {},
   "source": [
    "### 3. Convert DataFrame Row into a Series\n",
    "\n",
    "Above, we have seen converting DataFrame columns into Series, here, I will explain converting rows into Series."
   ]
  },
  {
   "cell_type": "code",
   "execution_count": 11,
   "id": "b58e8164",
   "metadata": {},
   "outputs": [
    {
     "name": "stdout",
     "output_type": "stream",
     "text": [
      "Courses      Python\n",
      "Duration    50 days\n",
      "Fee           26000\n",
      "Name: 2, dtype: object\n",
      "<class 'pandas.core.series.Series'>\n"
     ]
    }
   ],
   "source": [
    "my_series = df.iloc[2].squeeze()\n",
    "print(my_series)\n",
    "print (type(my_series))"
   ]
  },
  {
   "cell_type": "markdown",
   "id": "a6fd221c",
   "metadata": {},
   "source": [
    "## Merge DataFrame and Series?\n",
    "\n",
    "1. Construct a dataframe from the series.\n",
    "2. After that merge with the dataframe.\n",
    "3. Specify the data as the values, multiply them by the length, set the columns to the index and set params for left_index and set the right_index to True.\n",
    "\n",
    "#### Syntax for merge with the DataFrame:\n",
    "\n",
    "    df.merge(pd.DataFrame(data = [s.values] * len(s), columns = s.index), left_index=True, right_index=True)"
   ]
  },
  {
   "cell_type": "code",
   "execution_count": null,
   "id": "8adfbf87",
   "metadata": {},
   "outputs": [],
   "source": []
  }
 ],
 "metadata": {
  "kernelspec": {
   "display_name": "Python 3 (ipykernel)",
   "language": "python",
   "name": "python3"
  },
  "language_info": {
   "codemirror_mode": {
    "name": "ipython",
    "version": 3
   },
   "file_extension": ".py",
   "mimetype": "text/x-python",
   "name": "python",
   "nbconvert_exporter": "python",
   "pygments_lexer": "ipython3",
   "version": "3.9.12"
  }
 },
 "nbformat": 4,
 "nbformat_minor": 5
}
